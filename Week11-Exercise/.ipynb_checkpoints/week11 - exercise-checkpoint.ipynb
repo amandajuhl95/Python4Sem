{
 "cells": [
  {
   "cell_type": "markdown",
   "metadata": {},
   "source": [
    "### Exercise with perceptron\n",
    "\n",
    "Find the optimal weights for the two [dimensional dataset](https://render.githubusercontent.com/view/data/rodents.csv)  to seperate mice from rats based on data about height and weight. This is a superviced dataset with labels that can be found in the data folder (in this repo)\n",
    "\n"
   ]
  },
  {
   "cell_type": "markdown",
   "metadata": {},
   "source": [
    "#### Part one: general\n",
    "\n",
    "1. Look at the activation_function and plot the y-values for each x from -5,5 spaced with 0.5"
   ]
  },
  {
   "cell_type": "code",
   "execution_count": 3,
   "metadata": {},
   "outputs": [
    {
     "name": "stdout",
     "output_type": "stream",
     "text": [
      "[-5.5 -5.  -4.5 -4.  -3.5]\n"
     ]
    },
    {
     "data": {
      "image/png": "[encoded data removed]",
      "text/plain": [
       "<Figure size 432x288 with 1 Axes>"
      ]
     },
     "metadata": {
      "needs_background": "light"
     },
     "output_type": "display_data"
    }
   ],
   "source": [
    "import numpy as np\n",
    "import matplotlib.pyplot as plt\n",
    "\n",
    "def activation_function(x):\n",
    "    if x < 0:\n",
    "        return -1\n",
    "    else:\n",
    "        return 1\n",
    "    \n",
    "rnge = np.linspace(-5.5, 5.5, num=23)\n",
    "print(rnge[0:5])\n",
    "values = [activation_function(i) for i in rnge]\n",
    "plt.plot(rnge, values)\n",
    "plt.show()\n"
   ]
  },
  {
   "cell_type": "markdown",
   "metadata": {},
   "source": [
    "2. Change the perceptron method from the notebook to use the numpy.dot() method in line 12 instead of the lengthy sum() function"
   ]
  },
  {
   "cell_type": "code",
   "execution_count": 37,
   "metadata": {},
   "outputs": [
    {
     "data": {
      "text/plain": [
       "1"
      ]
     },
     "execution_count": 37,
     "metadata": {},
     "output_type": "execute_result"
    }
   ],
   "source": [
    "def perceptron(inp, weights):\n",
    "    dot_product = np.dot(inp, weights)\n",
    "    output = activation_function(dot_product)\n",
    "    return output\n",
    "\n",
    "perceptron([1, 2, 3, 4, 5], [1, 1, 2, 1, 1])"
   ]
  },
  {
   "cell_type": "markdown",
   "metadata": {},
   "source": [
    "#### Part two: rodent data\n",
    "1. Make a new scatter plot with datapoints of weights vs heights. Choose different colors for rats and mice\n"
   ]
  },
  {
   "cell_type": "code",
   "execution_count": 22,
   "metadata": {},
   "outputs": [
    {
     "data": {
      "image/png": "[encoded data removed]",
      "text/plain": [
       "<Figure size 432x288 with 1 Axes>"
      ]
     },
     "metadata": {
      "needs_background": "light"
     },
     "output_type": "display_data"
    }
   ],
   "source": [
    "import pandas as pd\n",
    "\n",
    "rodents = pd.read_csv(\"rodents.csv\")\n",
    "\n",
    "colors = {'rat':'r',\n",
    "         'mouse':'b'}\n",
    "\n",
    "for i in range(len(rodents)):\n",
    "    plt.scatter(rodents['weight'][i], rodents['height'][i], c=colors[rodents['type'][i]])\n",
    "\n",
    "\n",
    "plt.xlabel('weight')\n",
    "plt.ylabel('height')\n",
    "plt.show()"
   ]
  },
  {
   "cell_type": "markdown",
   "metadata": {},
   "source": [
    "2. Manually find the optimal linear function to divide the 2 groups (y = aX+b). Plot it on the scatter plot\n",
    "3. What is the slope and intercept of the linear function?\n",
    "4. Now change the 'type' column to represent rats as 1 and mice as -1\n",
    "5.  Clean up any rows with null data\n",
    "6. Use these weights herè [40,-190] to determine if the following 3 animals are mice or rats:\n",
    "        [[231.32446731816555,26.03382997978225],\n",
    "        [17.906954059999567,6.846576762459397],\n",
    "        [230.276522831171,24.077799766119398]]\n",
    "7. Find the (approximately) optimal weights using the perceptron learning algorithm\n",
    "8. Plot the weightline\n",
    "9. Plot the division line"
   ]
  },
  {
   "cell_type": "code",
   "execution_count": null,
   "metadata": {},
   "outputs": [],
   "source": []
  }
 ],
 "metadata": {
  "kernelspec": {
   "display_name": "Python 3",
   "language": "python",
   "name": "python3"
  },
  "language_info": {
   "codemirror_mode": {
    "name": "ipython",
    "version": 3
   },
   "file_extension": ".py",
   "mimetype": "text/x-python",
   "name": "python",
   "nbconvert_exporter": "python",
   "pygments_lexer": "ipython3",
   "version": "3.7.4"
  }
 },
 "nbformat": 4,
 "nbformat_minor": 2
}
