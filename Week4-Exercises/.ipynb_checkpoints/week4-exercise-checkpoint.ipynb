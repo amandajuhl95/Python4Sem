{
 "cells": [
  {
   "cell_type": "markdown",
   "metadata": {},
   "source": [
    "### Exercise 1 - numpy"
   ]
  },
  {
   "cell_type": "markdown",
   "metadata": {},
   "source": [
    "1. Open the file './befkbhalderstatkode.csv'\n",
    "2. Turn the csv file into a numpy ndarray with np.genfromtxt(filename, delimiter=',', dtype=np.uint, skip_header=1)"
   ]
  },
  {
   "cell_type": "code",
   "execution_count": 41,
   "metadata": {},
   "outputs": [
    {
     "name": "stdout",
     "output_type": "stream",
     "text": [
      "[[2015    1    0 5100  614]\n",
      " [2015    1    0 5104    2]\n",
      " [2015    1    0 5106    1]\n",
      " [2015    1    0 5110    1]\n",
      " [2015    1    0 5120    4]\n",
      " [2015    1    0 5126    1]\n",
      " [2015    1    0 5130    5]\n",
      " [2015    1    0 5140    3]\n",
      " [2015    1    0 5150    5]\n",
      " [2015    1    0 5154    1]\n",
      " [2015    1    0 5164    3]\n",
      " [2015    1    0 5170    3]\n",
      " [2015    1    0 5180    3]\n",
      " [2015    1    0 5228    1]\n",
      " [2015    1    0 5306    2]\n",
      " [2015    1    0 5390    1]\n",
      " [2015    1    0 5448    1]\n",
      " [2015    1    0 5464    1]\n",
      " [2015    1    0 5472    1]\n",
      " [2015    1    0 5502    1]\n",
      " [2015    1    0 5704    1]\n",
      " [2015    1    0 5752    1]\n",
      " [2015    1    1 5100  540]\n",
      " [2015    1    1 5104    3]\n",
      " [2015    1    1 5106    2]\n",
      " [2015    1    1 5110    3]\n",
      " [2015    1    1 5120    4]\n",
      " [2015    1    1 5130    3]\n",
      " [2015    1    1 5140    1]\n",
      " [2015    1    1 5142    1]\n",
      " [2015    1    1 5150    2]\n",
      " [2015    1    1 5154    1]\n",
      " [2015    1    1 5156    3]\n",
      " [2015    1    1 5164    2]\n",
      " [2015    1    1 5170    4]\n",
      " [2015    1    1 5180    3]\n",
      " [2015    1    1 5390    3]\n",
      " [2015    1    1 5432    1]\n",
      " [2015    1    1 5448    2]\n",
      " [2015    1    1 5462    1]\n",
      " [2015    1    1 5472    1]\n",
      " [2015    1    1 5502    3]\n",
      " [2015    1    1 5700    1]\n",
      " [2015    1    1 5704    1]\n",
      " [2015    1    1 5750    1]\n",
      " [2015    1    1 5756    1]]\n"
     ]
    }
   ],
   "source": [
    "import numpy as np\n",
    "\n",
    "filename = './befkbhalderstatkode.csv'\n",
    "bef_stats_df = np.genfromtxt(filename, delimiter=',', dtype=np.uint, skip_header=1)\n",
    "print(bef_stats_df)"
   ]
  },
  {
   "cell_type": "markdown",
   "metadata": {},
   "source": [
    "using this data:\n",
    "    \n",
    "neighb = {1: 'Indre By', 2: 'Østerbro', 3: 'Nørrebro', 4: 'Vesterbro/Kgs. Enghave', \n",
    "       5: 'Valby', 6: 'Vanløse', 7: 'Brønshøj-Husum', 8: 'Bispebjerg', 9: 'Amager Øst', \n",
    "       10: 'Amager Vest', 99: 'Udenfor'}\n",
    "\n",
    "3. Find out how many people lived in each of the 11 areas in 2015"
   ]
  },
  {
   "cell_type": "code",
   "execution_count": 108,
   "metadata": {},
   "outputs": [
    {
     "name": "stdout",
     "output_type": "stream",
     "text": [
      "[1243    0    0    0    0    0    0    0    0    0    0]\n"
     ]
    }
   ],
   "source": [
    "areas = {1: 'Indre By', 2: 'Østerbro', 3: 'Nørrebro', 4: 'Vesterbro/Kgs. Enghave', \n",
    "       5: 'Valby', 6: 'Vanløse', 7: 'Brønshøj-Husum', 8: 'Bispebjerg', 9: 'Amager Øst', \n",
    "       10: 'Amager Vest', 99: 'Udenfor'}\n",
    "    \n",
    "stats = bef_stats_df\n",
    "\n",
    "def get_people():  \n",
    "    mask = (stats[:,0] == 2015)\n",
    "    \n",
    "    return np.array([np.sum(stats[mask & stats[:,1] == area][:,4]) for area in areas])\n",
    "    \n",
    "print (get_people())\n",
    "           "
   ]
  },
  {
   "cell_type": "markdown",
   "metadata": {},
   "source": [
    "4. Make a bar plot to show the size of each city area from the smallest to the largest"
   ]
  },
  {
   "cell_type": "code",
   "execution_count": 69,
   "metadata": {},
   "outputs": [
    {
     "data": {
      "image/png": "[encoded data removed]",
      "text/plain": [
       "<Figure size 432x288 with 1 Axes>"
      ]
     },
     "metadata": {
      "needs_background": "light"
     },
     "output_type": "display_data"
    }
   ],
   "source": [
    "import matplotlib.pyplot as plt\n",
    "\n",
    "set_of_areas = list(areas.keys())\n",
    "freq_people = get_people()\n",
    "\n",
    "plt.bar(set_of_areas, freq_people)\n",
    "plt.show()"
   ]
  },
  {
   "cell_type": "markdown",
   "metadata": {},
   "source": [
    "5. Create a boolean mask to find out how many people above 65 years lived in Copenhagen in 2015"
   ]
  },
  {
   "cell_type": "code",
   "execution_count": 80,
   "metadata": {},
   "outputs": [
    {
     "data": {
      "text/plain": [
       "540"
      ]
     },
     "execution_count": 80,
     "metadata": {},
     "output_type": "execute_result"
    }
   ],
   "source": [
    "mask = (stats[:,0] == 2015) & (stats[:,2] == 1) & (stats[:,3] == 5100)\n",
    "np.sum(stats[mask][:,4])"
   ]
  },
  {
   "cell_type": "markdown",
   "metadata": {},
   "source": [
    "6. How many of those were from the other nordic countries (not dk)"
   ]
  },
  {
   "cell_type": "code",
   "execution_count": 91,
   "metadata": {},
   "outputs": [
    {
     "data": {
      "text/plain": [
       "10"
      ]
     },
     "execution_count": 91,
     "metadata": {},
     "output_type": "execute_result"
    }
   ],
   "source": [
    "mask = (stats[:,0] == 2015) & (stats[:,2] == 1)\n",
    "mask_sweden = (stats[:,3] == 5120)\n",
    "mask_norway = (stats[:,3] == 5110)\n",
    "mask_finland = (stats[:,3] == 5104)\n",
    "np.sum(stats[mask & (mask_sweden | mask_norway | mask_finland)][:,4])"
   ]
  },
  {
   "cell_type": "markdown",
   "metadata": {},
   "source": [
    "7. Make a line plot showing the changes of number of people in vesterbro and østerbro from 1992 to 2015"
   ]
  },
  {
   "cell_type": "code",
   "execution_count": 149,
   "metadata": {},
   "outputs": [
    {
     "data": {
      "image/png": "[encoded data removed]",
      "text/plain": [
       "<Figure size 432x288 with 1 Axes>"
      ]
     },
     "metadata": {
      "needs_background": "light"
     },
     "output_type": "display_data"
    }
   ],
   "source": [
    "import matplotlib.pyplot as plt\n",
    "\n",
    "years = np.unique(stats[:,0])\n",
    "mask_years = years >= 1992\n",
    "\n",
    "mask = (stats[:,1] == 1)\n",
    "people = np.array([np.sum(stats[mask & stats[:,0] == year][:,4]) for year in mask_years])\n",
    "\n",
    "plt.plot(years[mask_years], people, 'bx')\n",
    "plt.show()\n"
   ]
  }
 ],
 "metadata": {
  "kernelspec": {
   "display_name": "Python 3",
   "language": "python",
   "name": "python3"
  },
  "language_info": {
   "codemirror_mode": {
    "name": "ipython",
    "version": 3
   },
   "file_extension": ".py",
   "mimetype": "text/x-python",
   "name": "python",
   "nbconvert_exporter": "python",
   "pygments_lexer": "ipython3",
   "version": "3.7.4"
  }
 },
 "nbformat": 4,
 "nbformat_minor": 2
}
