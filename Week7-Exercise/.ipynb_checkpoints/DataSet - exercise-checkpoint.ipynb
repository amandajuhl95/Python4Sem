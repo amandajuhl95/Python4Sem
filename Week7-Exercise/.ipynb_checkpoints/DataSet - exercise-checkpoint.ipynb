{
 "cells": [
  {
   "cell_type": "markdown",
   "metadata": {},
   "source": [
    "### Exercise 1\n",
    "\n",
    "Use webscrabing to retrieve the table data from https://www.worldometers.info/coronavirus/ and create a pandas dataframe to show the data."
   ]
  },
  {
   "cell_type": "code",
   "execution_count": null,
   "metadata": {
    "scrolled": false
   },
   "outputs": [],
   "source": [
    "import bs4\n",
    "import requests\n",
    "import pandas as pd\n",
    "import numpy as np\n",
    "\n",
    "r = requests.get('https://www.worldometers.info/coronavirus/')\n",
    "r.raise_for_status()\n",
    "soup = bs4.BeautifulSoup(r.text, 'html.parser')\n",
    "\n",
    "columns = []\n",
    "data = []\n",
    "cities = []\n",
    "\n",
    "\n",
    "for header in soup.find_all('th'):\n",
    "    columns.append(header.getText()) \n",
    "    \n",
    "for table_data in soup.find_all('td'):\n",
    "    data.append(table_data.getText())\n",
    "    cities_tag_np = np.array(table_data)\n",
    "    cities_tag_np_2d = np.reshape(data,(int(len(data)/9),9))\n",
    "    \n",
    "\n",
    "df = pd.DataFrame(data=cities_tag_np_2d, columns=columns)\n",
    "df\n"
   ]
  }
 ],
 "metadata": {
  "kernelspec": {
   "display_name": "Python 3",
   "language": "python",
   "name": "python3"
  },
  "language_info": {
   "codemirror_mode": {
    "name": "ipython",
    "version": 3
   },
   "file_extension": ".py",
   "mimetype": "text/x-python",
   "name": "python",
   "nbconvert_exporter": "python",
   "pygments_lexer": "ipython3",
   "version": "3.7.4"
  }
 },
 "nbformat": 4,
 "nbformat_minor": 2
}
