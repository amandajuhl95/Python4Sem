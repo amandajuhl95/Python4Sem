{
 "cells": [
  {
   "cell_type": "markdown",
   "metadata": {},
   "source": [
    "### Exercise 1 understand the titanic data example\n",
    "\n",
    "Understand the Titanic clustering example\n",
    "\n",
    "1. Look at this [Notebook](https://github.com/datsoftlyngby/dat4sem2020spring-python/blob/master/notebooks/10-4-2%20Clustering%20Titanic%20eample.ipynb)\n",
    "2. Go through the code and make sure you understand everything"
   ]
  },
  {
   "cell_type": "markdown",
   "metadata": {},
   "source": [
    "### Exercise 2 use meanshift on the iris dataset\n",
    "\n",
    "1. Load 'iris_data.csv' into a dataframe\n",
    "2. Get unique labels (Species column)\n",
    "3. Plot with a scatter plot each iris flower sample colored by label (3 different colors)\n",
    "4. Use: MeanShift and estimate_bandwidth from sklearn.cluster to first estimate bandwidth and then get the clusters (HINT: estimate_bandwidth() takes an argument: quantile set it to 0.2 for best result\n",
    "5. Print out labels, cluster centers and number of clusters (as returned from the MeanShift function\n",
    "6. Create a new scatter plot where each flower is colored according to cluster label\n",
    "7. Add a dot for the cluster centers\n",
    "8. Compare the 2 plots (colored by actual labels vs. colored by cluster label)"
   ]
  },
  {
   "cell_type": "code",
   "execution_count": null,
   "metadata": {},
   "outputs": [],
   "source": [
    "import pandas as pd\n",
    "from sklearn import preprocessing\n",
    "\n",
    "encoder = preprocessing.LabelEncoder()\n",
    "\n",
    "data = pd.read_csv(\"iris_data.csv\")\n",
    "\n",
    "data[\"Species\"] = encoder.fit_transform(data[\"Species\"].astype(str))\n",
    "\n",
    "data"
   ]
  }
 ],
 "metadata": {
  "kernelspec": {
   "display_name": "Python 3",
   "language": "python",
   "name": "python3"
  },
  "language_info": {
   "codemirror_mode": {
    "name": "ipython",
    "version": 3
   },
   "file_extension": ".py",
   "mimetype": "text/x-python",
   "name": "python",
   "nbconvert_exporter": "python",
   "pygments_lexer": "ipython3",
   "version": "3.7.4"
  }
 },
 "nbformat": 4,
 "nbformat_minor": 2
}
