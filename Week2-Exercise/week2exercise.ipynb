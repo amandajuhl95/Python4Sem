{
 "cells": [
  {
   "cell_type": "markdown",
   "metadata": {},
   "source": [
    "## Exercise 1"
   ]
  },
  {
   "cell_type": "markdown",
   "metadata": {},
   "source": [
    "1. Create a python file with 3 functions:"
   ]
  },
  {
   "cell_type": "markdown",
   "metadata": {},
   "source": [
    "a) def print_file_content(file) that can print content of a csv file to the console"
   ]
  },
  {
   "cell_type": "code",
   "execution_count": 2,
   "metadata": {},
   "outputs": [
    {
     "name": "stdout",
     "output_type": "stream",
     "text": [
      "AAR,BYDEL,ALDER,STATKODE,PERSONER\n",
      "\n",
      "2015,1,0,5100,614\n",
      "\n",
      "2015,1,0,5104,2\n",
      "\n",
      "2015,1,0,5106,1\n",
      "\n",
      "2015,1,0,5110,1\n",
      "\n",
      "2015,1,0,5120,4\n",
      "\n",
      "2015,1,0,5126,1\n",
      "\n",
      "2015,1,0,5130,5\n",
      "\n",
      "2015,1,0,5140,3\n",
      "\n",
      "2015,1,0,5150,5\n",
      "\n",
      "2015,1,0,5154,1\n",
      "\n",
      "2015,1,0,5164,3\n",
      "\n",
      "2015,1,0,5170,3\n",
      "\n",
      "2015,1,0,5180,3\n",
      "\n",
      "2015,1,0,5228,1\n",
      "\n",
      "2015,1,0,5306,2\n",
      "\n",
      "2015,1,0,5390,1\n",
      "\n",
      "2015,1,0,5448,1\n",
      "\n",
      "2015,1,0,5464,1\n",
      "\n",
      "2015,1,0,5472,1\n",
      "\n",
      "2015,1,0,5502,1\n",
      "\n",
      "2015,1,0,5704,1\n",
      "\n",
      "2015,1,0,5752,1\n",
      "\n",
      "2015,1,1,5100,540\n",
      "\n",
      "2015,1,1,5104,3\n",
      "\n",
      "2015,1,1,5106,2\n",
      "\n",
      "2015,1,1,5110,3\n",
      "\n",
      "2015,1,1,5120,4\n",
      "\n",
      "2015,1,1,5130,3\n",
      "\n",
      "2015,1,1,5140,1\n",
      "\n",
      "2015,1,1,5142,1\n",
      "\n",
      "2015,1,1,5150,2\n",
      "\n",
      "2015,1,1,5154,1\n",
      "\n",
      "2015,1,1,5156,3\n",
      "\n",
      "2015,1,1,5164,2\n",
      "\n",
      "2015,1,1,5170,4\n",
      "\n",
      "2015,1,1,5180,3\n",
      "\n",
      "2015,1,1,5390,3\n",
      "\n",
      "2015,1,1,5432,1\n",
      "\n",
      "2015,1,1,5448,2\n",
      "\n",
      "2015,1,1,5462,1\n",
      "\n",
      "2015,1,1,5472,1\n",
      "\n",
      "2015,1,1,5502,3\n",
      "\n",
      "2015,1,1,5700,1\n",
      "\n",
      "2015,1,1,5704,1\n",
      "\n",
      "2015,1,1,5750,1\n",
      "\n",
      "2015,1,1,5756,1\n"
     ]
    }
   ],
   "source": [
    "def print_file_content(file):\n",
    "    with open(file) as file:\n",
    "        for line in file:\n",
    "            print(line)\n",
    "    \n",
    "print_file_content('./befkbhalderstatkode.csv')"
   ]
  },
  {
   "cell_type": "markdown",
   "metadata": {},
   "source": [
    "b) def write_list_to_file(output_file, lst) that can take a list of tuple and write each element to a new line in file"
   ]
  },
  {
   "cell_type": "code",
   "execution_count": 4,
   "metadata": {},
   "outputs": [
    {
     "name": "stdout",
     "output_type": "stream",
     "text": [
      "[(1, 1, 1), (2, 4, 8), (3, 9, 27), (4, 16, 64), (5, 25, 125), (6, 36, 216), (7, 49, 343), (8, 64, 512), (9, 81, 729), (10, 100, 1000), (11, 121, 1331), (12, 144, 1728), (13, 169, 2197), (14, 196, 2744), (15, 225, 3375), (16, 256, 4096), (17, 289, 4913), (18, 324, 5832), (19, 361, 6859)]\n"
     ]
    }
   ],
   "source": [
    "def write_list_to_file(output_file, lst):\n",
    "    with open(output_file, 'w') as file:\n",
    "        for tuble in lst:\n",
    "            temp = \"\"\n",
    "            for value in tuble:\n",
    "                temp += str(value)+ \",\"\n",
    "            temp = temp[:-1] + \"\\n\"\n",
    "            file.write(temp)\n",
    "       \n",
    "    \n",
    "        \n",
    "\n",
    "tuple_list = [(value, value**2,value**3) for value in range(1,20)]\n",
    "print(tuple_list)\n",
    "write_list_to_file(\"write_list_to_file.txt\", tuple_list)"
   ]
  },
  {
   "cell_type": "markdown",
   "metadata": {},
   "source": [
    "    a) rewrite the function so that it gets an arbitrary number of strings instead of a list"
   ]
  },
  {
   "cell_type": "code",
   "execution_count": 12,
   "metadata": {},
   "outputs": [],
   "source": [
    "def write_list_to_file(output_file, *strs):\n",
    "    with open(output_file, 'w') as file:\n",
    "        for string in strs:\n",
    "            file.write(string + '\\n')\n",
    "\n",
    "\n",
    "write_list_to_file(\"write_list_to_file.csv\", \"anemone\",\"maguerit\",\"jasmin\",\"solsikke\",\"morgenfrue\")"
   ]
  },
  {
   "cell_type": "markdown",
   "metadata": {},
   "source": [
    "c) def read_csv(input_file) that take a csv file and read each row into a list"
   ]
  },
  {
   "cell_type": "code",
   "execution_count": 19,
   "metadata": {},
   "outputs": [
    {
     "name": "stdout",
     "output_type": "stream",
     "text": [
      "[['anemone'], ['maguerit'], ['jasmin'], ['solsikke'], ['morgenfrue']]\n"
     ]
    }
   ],
   "source": [
    "import csv\n",
    "\n",
    "def read_csv(input_file):\n",
    "    my_list = []\n",
    "    with open(input_file) as f:\n",
    "        reader = csv.reader(f)\n",
    "        for row in reader:\n",
    "            my_list.append(row)\n",
    "            \n",
    "        print(my_list)\n",
    "\n",
    "read_csv(\"write_list_to_file.csv\")"
   ]
  },
  {
   "cell_type": "markdown",
   "metadata": {},
   "source": [
    "2. Add a functionality so that the file can be called from cli with 2 arguments"
   ]
  },
  {
   "cell_type": "markdown",
   "metadata": {},
   "source": [
    "a) path to csv file"
   ]
  },
  {
   "cell_type": "markdown",
   "metadata": {},
   "source": [
    "b) an argument --file file_name that if given will write the content to file_name or otherwise will print it to the console. import csv\n"
   ]
  },
  {
   "cell_type": "code",
   "execution_count": 21,
   "metadata": {},
   "outputs": [
    {
     "name": "stdout",
     "output_type": "stream",
     "text": [
      "[['anemone'], ['maguerit'], ['jasmin'], ['solsikke'], ['morgenfrue']]\n"
     ]
    }
   ],
   "source": [
    "\n",
    "import csv\n",
    "\n",
    "def read_csv(input_file, file_name = None):\n",
    "    my_list = []\n",
    "    with open(input_file) as file:\n",
    "        reader = csv.reader(file)\n",
    "        for row in reader:\n",
    "            my_list.append(row)\n",
    "        if file_name == None:\n",
    "            print(my_list)\n",
    "        else:\n",
    "            with open(file_name, 'w') as file:\n",
    "                output_writer = csv.writer(file)\n",
    "                for line in my_list:\n",
    "                    output_writer.writerow(line)\n",
    "                    \n",
    "            \n",
    "           \n",
    "        \n",
    "read_csv(\"./write_list_to_file.csv\")\n",
    "read_csv(\"./write_list_to_file.csv\", \"copy_content_from_csv.txt\")"
   ]
  },
  {
   "cell_type": "markdown",
   "metadata": {},
   "source": [
    "#### 3. Add a --help cli argument to describe how the module is used\n",
    "\n",
    "The solution for this exercise can be found in opgave3.py "
   ]
  },
  {
   "cell_type": "markdown",
   "metadata": {},
   "source": [
    "## Exercise 2"
   ]
  },
  {
   "cell_type": "markdown",
   "metadata": {},
   "source": [
    "#### Create a module called utils.py and put the following functions inside:\n",
    "1. first function takes a path to a folder and writes all filenames in the folder to a specified output file\n",
    "2. second takes a path to a folder and write all filenames recursively (files of all sub folders to)\n",
    "3. third takes a list of filenames and print the first line of each\n",
    "4. fourth takes a list of filenames and print each line that contains an email (just look for @)\n",
    "5. fifth takes a list of md files and writes all headlines (lines starting with #) to a file \n",
    "\n",
    "#### Make sure your module can be called both from cli and imported to another module. Create a new module that imports utils.py and test each function.\n"
   ]
  },
  {
   "cell_type": "markdown",
   "metadata": {},
   "source": [
    "The solution for this exercise can be found in utils.py"
   ]
  },
  {
   "cell_type": "code",
   "execution_count": 29,
   "metadata": {},
   "outputs": [
    {
     "name": "stdout",
     "output_type": "stream",
     "text": [
      "This is a secret message from me to you \n",
      "\n",
      "test@mail.com\n",
      "email@email.dk\n",
      "# Python 4 Semester\n",
      "# Week 2\n"
     ]
    }
   ],
   "source": [
    "import utils\n",
    "\n",
    "utils.write_filenames_from_folder(\"./TestExercise2\", \"filenames.csv\")\n",
    "utils.print_first_line(\"./TestExercise2/file2.txt\")\n",
    "utils.print_email_line(\"./TestExercise2/file1.txt\") \n",
    "utils.print_headlines(\"./README.md\")"
   ]
  }
 ],
 "metadata": {
  "kernelspec": {
   "display_name": "Python 3",
   "language": "python",
   "name": "python3"
  },
  "language_info": {
   "codemirror_mode": {
    "name": "ipython",
    "version": 3
   },
   "file_extension": ".py",
   "mimetype": "text/x-python",
   "name": "python",
   "nbconvert_exporter": "python",
   "pygments_lexer": "ipython3",
   "version": "3.7.4"
  }
 },
 "nbformat": 4,
 "nbformat_minor": 2
}
