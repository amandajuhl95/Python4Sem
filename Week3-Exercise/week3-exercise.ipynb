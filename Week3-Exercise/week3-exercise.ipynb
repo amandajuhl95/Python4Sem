{
 "cells": [
  {
   "cell_type": "markdown",
   "metadata": {},
   "source": [
    "## Exercise 1 - Classes"
   ]
  },
  {
   "cell_type": "markdown",
   "metadata": {},
   "source": [
    "1. Create 3 classes: Student, DataSheet and Course.\n",
    "2. A student has a data_sheet and a data_sheet has multiple courses in particular order.\n",
    "3. Each course has name, classroom, teacher, ETCS and optional grade if course is taken.\n",
    "4. In Student create init() so that a Student can be initiated with name, gender, data_sheet and image_url.\n",
    "5. In DataSheet create a method to get_grades_as_list()\n",
    "6. In Student create a method: get_avg_grade()"
   ]
  },
  {
   "cell_type": "code",
   "execution_count": 6,
   "metadata": {},
   "outputs": [],
   "source": [
    "class Course():\n",
    "    def __init__(self, name, classroom, teacher, ECTS, grade = None):\n",
    "        self.name = name\n",
    "        self.classroom = classroom\n",
    "        self.teacher = teacher\n",
    "        self.ECTS = ECTS\n",
    "        self.grade = grade\n",
    "        \n",
    "    def __repr__(self):\n",
    "        return 'course(%r, %r)' % (self.name, self.classroom)\n",
    "    \n",
    "class Data_sheed():\n",
    "    def __init__(self, courses = []):\n",
    "        self.courses = courses\n",
    "        \n",
    "    def add_course(self, course):\n",
    "        self.courses.append(course)\n",
    "        \n",
    "    def get_grades_as_list(self):\n",
    "        grades = []\n",
    "        for course in self.courses:\n",
    "            grades.append(course.grade)\n",
    "        return grades\n",
    "            \n",
    "class Student():\n",
    "    def __init__(self, data_sheed, name, gender, image_url):\n",
    "        self.data_sheed = data_sheed\n",
    "        self.name = name\n",
    "        self.gender = gender\n",
    "        self.image_url = image_url\n",
    "    \n",
    "    def __repr__(self):\n",
    "        return 'Student(%r, %r, %r)' % (self.name, self.gender, self.image_url)\n",
    "    \n",
    "    def get_all_courses(self):\n",
    "        return self.data_sheed.courses\n",
    "\n",
    "    def get_avg_grade(self):\n",
    "        grades = self.data_sheed.get_grades_as_list()\n",
    "        return sum(grades) / len(grades)\n",
    "    \n",
    "    \"\"\" 9. Make a method on Student class that can show progression of the study in % \n",
    "    (add up ECTS from all passed courses divided by total of 150 total points \n",
    "    (equivalent to 5 semesters)) \"\"\"\n",
    "    \n",
    "    def show_progress(self):\n",
    "        sum_of_ects = 0\n",
    "        for course in self.data_sheed.courses:\n",
    "            ECTS = course.ECTS\n",
    "            sum_of_ects += int(ECTS)\n",
    "        return sum_of_ects/150\n",
    "    "
   ]
  },
  {
   "cell_type": "markdown",
   "metadata": {},
   "source": [
    "7. Create a function that can generate n number of students with random: name, gender, courses (from a fixed list of course names), grades, img_url\n",
    "\n",
    "a. Let the function write the result to a csv file with format stud_name, course_name, teacher, ects, classroom, grade, img_url"
   ]
  },
  {
   "cell_type": "code",
   "execution_count": 7,
   "metadata": {},
   "outputs": [],
   "source": [
    "import random \n",
    "import csv\n",
    "\n",
    "def make_random_student(number_of_students):\n",
    "    \n",
    "    course_name = [\"Programming\", \"System Development\", \"Python\", \"Danish\", \"Surfing\", \"Witchery\"]\n",
    "    course_classrooms = [\"264\", \"205\", \"103\", \"301\"]\n",
    "    course_teacher = [\"Tue\", \"Jon\", \"Tobias\", \"Thomas\", \"Tine\"]\n",
    "    course_ECTS = [5, 10, 15, 30]\n",
    "    course_grades = [0, 2, 4, 7, 10, 12]\n",
    "    \n",
    "    student_name = [\"Amalie\", \"Amanda\", \"Benjamin\", \"Laura\", \"Dominik\", \"Jonas\", \"Dylan\", \"Andrea\", \"Hyben\", \"Harald\"]\n",
    "    student_gender = [\"Female\", \"Male\", \"Transgender\", \"Agender\", \"Genderfluid\"]\n",
    "    student_picture = [\"http://lava360.com/wp-content/uploads/2016/04/Spot-on-funny-caricatures-from-photos1.0.jpg\", \"https://i.ytimg.com/vi/lBosbEgC_5o/hqdefault.jpg\", \"http://www.kgsartwear.com/wp-content/uploads/2013/07/upperlip.jpg\", \"https://www.askideas.com/media/14/Angry-Face-Funny-Woman-Image.jpg\", \"http://3.bp.blogspot.com/-uoHXkY0ttDU/T98R1DYew9I/AAAAAAAAG5E/15Qb-05Wh1I/s1600/funny+face+expressions+%2819%29.jpg\", \"https://www.askideas.com/media/50/Funny-Jim-Carrey-Smiling-Face-Picture.jpg\", \"http://4.bp.blogspot.com/-NciOIYoZS6I/T98R7LJymiI/AAAAAAAAG5U/ZVRFD25RxD8/s1600/funny+face+expressions+%2820%29.jpg\"]\n",
    "    \n",
    "    students = []\n",
    "    for x in range(number_of_students):\n",
    "        courses = []\n",
    "        for x in range(random.randint(2,4)):\n",
    "            course = Course(random.choice(course_name), \n",
    "                  random.choice(course_classrooms), \n",
    "                  random.choice(course_teacher), \n",
    "                  random.choice(course_ECTS), \n",
    "                  random.choice(course_grades))\n",
    "            courses.append(course)\n",
    "    \n",
    "        data_sheed = Data_sheed(courses)\n",
    "        student = Student(data_sheed, random.choice(student_name), random.choice(student_gender), random.choice(student_picture))\n",
    "        students.append(student)\n",
    "\n",
    "    with open('students.csv', 'w') as file:\n",
    "        writer = csv.writer(file)\n",
    "        writer.writerow([\"stud_name\", \"gender\", \"course_name\", \"teacher\", \"ects\", \"classroom\", \"grade\", \"img_url\"])\n",
    "        for student in students:\n",
    "            for course in student.data_sheed.courses:\n",
    "                writer.writerow([student.name, student.gender, course.name, course.teacher, course.ECTS, \n",
    "                                    course.classroom, course.grade, student.image_url])\n",
    "\n",
    "    \n",
    "make_random_student(4)\n"
   ]
  },
  {
   "cell_type": "markdown",
   "metadata": {},
   "source": [
    "8. Read student data into a list of Students from a csv file:"
   ]
  },
  {
   "cell_type": "markdown",
   "metadata": {},
   "source": [
    "a. loop through the list and print each student with name, img_url and avg_grade.\n",
    "\n",
    "b. sort the list by avg_grade"
   ]
  },
  {
   "cell_type": "code",
   "execution_count": 8,
   "metadata": {},
   "outputs": [
    {
     "name": "stdout",
     "output_type": "stream",
     "text": [
      "Jonas http://www.kgsartwear.com/wp-content/uploads/2013/07/upperlip.jpg 2.0\n",
      "Dominik https://i.ytimg.com/vi/lBosbEgC_5o/hqdefault.jpg 4.5\n",
      "Andrea http://4.bp.blogspot.com/-NciOIYoZS6I/T98R7LJymiI/AAAAAAAAG5U/ZVRFD25RxD8/s1600/funny+face+expressions+%2820%29.jpg 6.0\n",
      "Amalie http://3.bp.blogspot.com/-uoHXkY0ttDU/T98R1DYew9I/AAAAAAAAG5E/15Qb-05Wh1I/s1600/funny+face+expressions+%2819%29.jpg 7.666666666666667\n"
     ]
    }
   ],
   "source": [
    "import csv\n",
    "\n",
    "with open(\"students.csv\") as file:\n",
    "    reader = csv.reader(file)\n",
    "    next(reader)\n",
    "    students = []\n",
    "    \n",
    "    for row in reader:\n",
    "        name, gender, course_name, teacher, ects, classroom, grade, url = row\n",
    "        course = Course(course_name, classroom, teacher, ects, int(grade))\n",
    "        data_sheed = Data_sheed([course])\n",
    "        student = Student(data_sheed, name, gender, url)\n",
    "    \n",
    "        if(len(students) == 0):\n",
    "            students.append(student)\n",
    "        \n",
    "        elif(student.name == students[-1].name and student.gender == students[-1].gender):\n",
    "            students[-1].data_sheed.add_course(course)\n",
    "            \n",
    "        else:\n",
    "            students.append(student)\n",
    "            \n",
    "    sort_stud = sorted(students, key=Student.get_avg_grade)\n",
    "    \n",
    "    for student in sort_stud:\n",
    "        print(student.name, student.image_url, student.get_avg_grade())"
   ]
  },
  {
   "cell_type": "markdown",
   "metadata": {},
   "source": [
    "c. create a bar chart with student_name on x and avg_grade on y-axis"
   ]
  },
  {
   "cell_type": "code",
   "execution_count": 9,
   "metadata": {},
   "outputs": [
    {
     "data": {
      "image/png": "[encoded data removed]",
      "text/plain": [
       "<Figure size 432x288 with 1 Axes>"
      ]
     },
     "metadata": {
      "needs_background": "light"
     },
     "output_type": "display_data"
    }
   ],
   "source": [
    "import matplotlib.pyplot as plt\n",
    "\n",
    "names = [student.name for student in sort_stud]\n",
    "grades = [student.get_avg_grade() for student in sort_stud]\n",
    "\n",
    "plt.bar(names,grades)\n",
    "plt.show()"
   ]
  },
  {
   "cell_type": "markdown",
   "metadata": {},
   "source": [
    "#### 10. Show a bar chart of distribution of study progression on x-axis and number of students in each category on y-axis. (e.g. make 10 categories from 0-100%)"
   ]
  },
  {
   "cell_type": "markdown",
   "metadata": {},
   "source": [
    "I didn't understand this exercise."
   ]
  },
  {
   "cell_type": "markdown",
   "metadata": {},
   "source": [
    "#### Extra: Make the Datasheet class iterable so that next(data_sheet) will return the next course in the list"
   ]
  },
  {
   "cell_type": "markdown",
   "metadata": {},
   "source": [
    "## Exercise 2 - Exception"
   ]
  },
  {
   "cell_type": "markdown",
   "metadata": {},
   "source": [
    "1. Create a function that can take a list of students and return the 3 students closest to completing their study.\n",
    "2. If list is shorter than 3 raise your own custom exception (NotEnoughStudentsException)"
   ]
  },
  {
   "cell_type": "code",
   "execution_count": 27,
   "metadata": {},
   "outputs": [
    {
     "name": "stdout",
     "output_type": "stream",
     "text": [
      "Andrea 26.666666666666668\n",
      "Dominik 33.33333333333333\n",
      "Jonas 40.0\n"
     ]
    },
    {
     "ename": "NotEnoughStudentsException",
     "evalue": "The list of students is 2, the list has to be 3 students or more!",
     "output_type": "error",
     "traceback": [
      "\u001b[0;31m---------------------------------------------------------------------------\u001b[0m",
      "\u001b[0;31mNotEnoughStudentsException\u001b[0m                Traceback (most recent call last)",
      "\u001b[0;32m<ipython-input-27-67670360b122>\u001b[0m in \u001b[0;36m<module>\u001b[0;34m\u001b[0m\n\u001b[1;32m     16\u001b[0m         \u001b[0mprint\u001b[0m\u001b[0;34m(\u001b[0m\u001b[0mstudent\u001b[0m\u001b[0;34m.\u001b[0m\u001b[0mname\u001b[0m\u001b[0;34m,\u001b[0m \u001b[0mstudent\u001b[0m\u001b[0;34m.\u001b[0m\u001b[0mshow_progress\u001b[0m\u001b[0;34m(\u001b[0m\u001b[0;34m)\u001b[0m\u001b[0;34m*\u001b[0m\u001b[0;36m100\u001b[0m\u001b[0;34m)\u001b[0m\u001b[0;34m\u001b[0m\u001b[0;34m\u001b[0m\u001b[0m\n\u001b[1;32m     17\u001b[0m \u001b[0;34m\u001b[0m\u001b[0m\n\u001b[0;32m---> 18\u001b[0;31m \u001b[0mprint\u001b[0m\u001b[0;34m(\u001b[0m\u001b[0mfurthest_students\u001b[0m\u001b[0;34m(\u001b[0m\u001b[0msort_stud\u001b[0m\u001b[0;34m[\u001b[0m\u001b[0;36m0\u001b[0m\u001b[0;34m:\u001b[0m\u001b[0;36m2\u001b[0m\u001b[0;34m]\u001b[0m\u001b[0;34m)\u001b[0m\u001b[0;34m)\u001b[0m\u001b[0;34m\u001b[0m\u001b[0;34m\u001b[0m\u001b[0m\n\u001b[0m",
      "\u001b[0;32m<ipython-input-27-67670360b122>\u001b[0m in \u001b[0;36mfurthest_students\u001b[0;34m(students)\u001b[0m\n\u001b[1;32m      7\u001b[0m     \u001b[0msort_stud\u001b[0m \u001b[0;34m=\u001b[0m \u001b[0msorted\u001b[0m\u001b[0;34m(\u001b[0m\u001b[0mstudents\u001b[0m\u001b[0;34m,\u001b[0m \u001b[0mkey\u001b[0m\u001b[0;34m=\u001b[0m\u001b[0mStudent\u001b[0m\u001b[0;34m.\u001b[0m\u001b[0mshow_progress\u001b[0m\u001b[0;34m)\u001b[0m\u001b[0;34m\u001b[0m\u001b[0;34m\u001b[0m\u001b[0m\n\u001b[1;32m      8\u001b[0m     \u001b[0;32mif\u001b[0m\u001b[0;34m(\u001b[0m\u001b[0mlen\u001b[0m\u001b[0;34m(\u001b[0m\u001b[0msort_stud\u001b[0m\u001b[0;34m)\u001b[0m\u001b[0;34m<\u001b[0m\u001b[0;36m3\u001b[0m\u001b[0;34m)\u001b[0m\u001b[0;34m:\u001b[0m\u001b[0;34m\u001b[0m\u001b[0;34m\u001b[0m\u001b[0m\n\u001b[0;32m----> 9\u001b[0;31m         \u001b[0;32mraise\u001b[0m \u001b[0mNotEnoughStudentsException\u001b[0m\u001b[0;34m(\u001b[0m\u001b[0;34m\"The list of students is {}, the list has to be 3 students or more!\"\u001b[0m\u001b[0;34m.\u001b[0m\u001b[0mformat\u001b[0m\u001b[0;34m(\u001b[0m\u001b[0mlen\u001b[0m\u001b[0;34m(\u001b[0m\u001b[0msort_stud\u001b[0m\u001b[0;34m)\u001b[0m\u001b[0;34m)\u001b[0m\u001b[0;34m)\u001b[0m\u001b[0;34m\u001b[0m\u001b[0;34m\u001b[0m\u001b[0m\n\u001b[0m\u001b[1;32m     10\u001b[0m \u001b[0;34m\u001b[0m\u001b[0m\n\u001b[1;32m     11\u001b[0m     \u001b[0;32mreturn\u001b[0m \u001b[0msort_stud\u001b[0m\u001b[0;34m[\u001b[0m\u001b[0;34m-\u001b[0m\u001b[0;36m3\u001b[0m\u001b[0;34m:\u001b[0m\u001b[0;34m]\u001b[0m\u001b[0;34m\u001b[0m\u001b[0;34m\u001b[0m\u001b[0m\n",
      "\u001b[0;31mNotEnoughStudentsException\u001b[0m: The list of students is 2, the list has to be 3 students or more!"
     ]
    }
   ],
   "source": [
    "class NotEnoughStudentsException(IndexError):\n",
    "    def __init__(self, *args, **kwargs):\n",
    "        IndexError.__init__(self, *args, **kwargs)\n",
    "\n",
    "def furthest_students(students):\n",
    "    \"\"\"findes the 3 students that are furthest with their studies. Sorted on etcs points\"\"\"\n",
    "    sort_stud = sorted(students, key=Student.show_progress)\n",
    "    if(len(sort_stud)<3):\n",
    "        raise NotEnoughStudentsException(\"The list of students is {}, the list has to be 3 students or more!\".format(len(sort_stud)))\n",
    "    \n",
    "    return sort_stud[-3:]\n",
    "\n",
    "best_students = furthest_students(sort_stud)\n",
    "\n",
    "for student in best_students:\n",
    "        print(student.name, student.show_progress()*100)\n",
    "        \n",
    "print(furthest_students(sort_stud[0:2]))"
   ]
  },
  {
   "cell_type": "markdown",
   "metadata": {},
   "source": [
    "3. Create another function that can create a csv file with 3 students closest to completion\n",
    "\n",
    "a. If an exception is raised write an appropriate message to the file"
   ]
  },
  {
   "cell_type": "code",
   "execution_count": 31,
   "metadata": {},
   "outputs": [],
   "source": [
    "def safe_best_students(all_students):\n",
    "    try:\n",
    "        best_students = furthest_students(all_students)\n",
    "    \n",
    "    except NotEnoughStudentsException as e:\n",
    "        with open('best_students.csv', 'w') as file:\n",
    "            writer = csv.writer(file)\n",
    "            writer.writerow(e.args)\n",
    "        \n",
    "    else:\n",
    "        with open('best_students.csv', 'w') as file:\n",
    "            writer = csv.writer(file)\n",
    "            writer.writerow([\"stud_name\", \"gender\", \"course_name\", \"teacher\", \"ects\", \"classroom\", \"grade\", \"img_url\"])\n",
    "            for student in best_students:\n",
    "                for course in student.data_sheed.courses:\n",
    "                    writer.writerow([student.name, student.gender, course.name, course.teacher, course.ECTS, \n",
    "                                    course.classroom, course.grade, student.image_url])\n",
    "\n",
    "# This writes the list of three students \n",
    "safe_best_students(students)\n",
    "\n",
    "# This writes the error message, because the list is to short\n",
    "safe_best_students(students[0:2])"
   ]
  },
  {
   "cell_type": "markdown",
   "metadata": {},
   "source": [
    "## Exercise 3 - Plotting"
   ]
  },
  {
   "cell_type": "markdown",
   "metadata": {},
   "source": [
    "1. Create a function that can take a list of students and show a pie chart of how students are distributed in ECTS percentage categories (10%, 20%, ...)"
   ]
  },
  {
   "cell_type": "code",
   "execution_count": 60,
   "metadata": {},
   "outputs": [
    {
     "data": {
      "image/png": "[encoded data removed]",
      "text/plain": [
       "<Figure size 432x288 with 1 Axes>"
      ]
     },
     "metadata": {},
     "output_type": "display_data"
    }
   ],
   "source": [
    "import matplotlib.pyplot as plt\n",
    "\n",
    "def ects_pct_students(students):\n",
    "    list_of_ects = {}\n",
    "    for student in students:\n",
    "        list_of_ects[student.name] = student.show_progress()*100\n",
    "    plt.title(\"Percentage of ects for students\", fontsize=16)\n",
    "    plt.pie(list_of_ects.values(),labels= list_of_ects.keys(), autopct='%1.0f%%')\n",
    "    plt.show()\n",
    "\n",
    "ects_pct_students(sort_stud)"
   ]
  },
  {
   "cell_type": "markdown",
   "metadata": {},
   "source": [
    "2. Create a function that can take a list of students and show how many students have taken each course (bar chart)\n",
    "\n",
    "a) Create a method on student that can return a list of courses"
   ]
  },
  {
   "cell_type": "code",
   "execution_count": 86,
   "metadata": {},
   "outputs": [
    {
     "data": {
      "image/png": "[encoded data removed]",
      "text/plain": [
       "<Figure size 432x288 with 1 Axes>"
      ]
     },
     "metadata": {
      "needs_background": "light"
     },
     "output_type": "display_data"
    },
    {
     "name": "stdout",
     "output_type": "stream",
     "text": [
      "Andrea has [course('Witchery', '301'), course('Python', '264'), course('System Development', '205')]\n"
     ]
    }
   ],
   "source": [
    "import matplotlib.pyplot as plt\n",
    "\n",
    "def students_by_course(students):\n",
    "    courses = []\n",
    "    courses_names = []\n",
    "    student_pr_course = {}\n",
    "    all_courses = [\"Programming\", \"System Development\", \"Python\", \"Danish\", \"Surfing\", \"Witchery\"]\n",
    "\n",
    "    for student in students:\n",
    "        courses.extend(student.get_all_courses())\n",
    "    \n",
    "    for course in courses:\n",
    "        courses_names.append(course.name)\n",
    "\n",
    "    for course in all_courses:\n",
    "        student_pr_course[course] = courses_names.count(course)\n",
    "\n",
    "    plt.title(\"Students by course\", fontsize=16)\n",
    "    plt.ylabel(\"Number of students\")\n",
    "    plt.xlabel(\"Courses\")\n",
    "    plt.bar(student_pr_course.keys(), student_pr_course.values())\n",
    "    plt.show()\n",
    "    \n",
    "students_by_course(sort_stud)\n",
    "\n",
    "print(sort_stud[2].name + \" has \" + str(sort_stud[2].get_all_courses()))"
   ]
  },
  {
   "cell_type": "markdown",
   "metadata": {},
   "source": [
    "3. Make the figure show males and females in different colors for each course (display 2 datasets in same figure)"
   ]
  },
  {
   "cell_type": "code",
   "execution_count": 94,
   "metadata": {},
   "outputs": [
    {
     "data": {
      "image/png": "[encoded data removed]",
      "text/plain": [
       "<Figure size 432x288 with 1 Axes>"
      ]
     },
     "metadata": {
      "needs_background": "light"
     },
     "output_type": "display_data"
    }
   ],
   "source": [
    "import matplotlib.pyplot as plt\n",
    "\n",
    "def get_students_by_course(students):   \n",
    "    females_pr_course = {'Programming':0,'System Development':0,'Python':0,'Danish':0,'Surfing':0, 'Witchery':0}\n",
    "    males_pr_course = {'Programming':0,'System Development':0,'Python':0,'Danish':0,'Surfing':0, 'Witchery':0}\n",
    "    gender_pr_course = {'Programming':0,'System Development':0,'Python':0,'Danish':0,'Surfing':0, 'Witchery':0}\n",
    "    all_courses=[\"Programming\", \"System Development\", \"Python\", \"Danish\", \"Surfing\", \"Witchery\"]\n",
    "    \n",
    "    for coursename in all_courses:\n",
    "        for student in students:\n",
    "            for course in student.get_all_courses():\n",
    "                if course.name == coursename:\n",
    "                    if student.gender == 'Male':  \n",
    "                        males_pr_course[coursename] += 1 \n",
    "                        \n",
    "                    elif student.gender == 'Female':\n",
    "                        females_pr_course[coursename]+= 1 \n",
    "                        \n",
    "                    else:\n",
    "                        gender_pr_course[coursename] += 1 \n",
    "                        \n",
    "    \n",
    "    male_courses = list(males_pr_course.keys())\n",
    "    no_males = list(males_pr_course.values()) \n",
    "    \n",
    "    female_courses = list(females_pr_course.keys())\n",
    "    no_females = list(females_pr_course.values()) \n",
    "    \n",
    "    gender_courses = list(gender_pr_course.keys())\n",
    "    no_gender = list(gender_pr_course.values())\n",
    "\n",
    "    plt.ticklabel_format(useOffset=False)\n",
    "    plt.axis([0, len(all_courses), 0, 5])\n",
    "    plt.title(\"Students by courses\", fontsize=16)\n",
    "    plt.ylabel(\"Number of students\")\n",
    "    plt.xlabel(\"Courses\")\n",
    "    \n",
    "    \n",
    "    plt.tick_params(axis='both', which='major', labelsize=10)\n",
    "    p1 = plt.bar(male_courses, no_males, width=0.5, linewidth=0, align='center', color='blue')\n",
    "    p2 = plt.bar(female_courses, no_females, width=0.5, linewidth=0, align='center', color='red') \n",
    "    p3 = plt.bar(gender_courses, no_gender, width=0.5, linewidth=0, align='center', color='yellow') \n",
    "    plt.legend([p1,p2,p3],['males','females','others']) \n",
    "    plt.show()\n",
    "    \n",
    "\n",
    "get_students_by_course(sort_stud)"
   ]
  }
 ],
 "metadata": {
  "kernelspec": {
   "display_name": "Python 3",
   "language": "python",
   "name": "python3"
  },
  "language_info": {
   "codemirror_mode": {
    "name": "ipython",
    "version": 3
   },
   "file_extension": ".py",
   "mimetype": "text/x-python",
   "name": "python",
   "nbconvert_exporter": "python",
   "pygments_lexer": "ipython3",
   "version": "3.7.4"
  }
 },
 "nbformat": 4,
 "nbformat_minor": 2
}
